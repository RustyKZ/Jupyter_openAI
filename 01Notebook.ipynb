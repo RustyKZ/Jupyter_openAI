{
 "cells": [
  {
   "cell_type": "markdown",
   "id": "5a6d6474-1ca2-4855-b972-5bf6f3f041aa",
   "metadata": {},
   "source": [
    "#First Jupyter project"
   ]
  },
  {
   "cell_type": "code",
   "execution_count": 45,
   "id": "a86bbe1c-0cec-406f-b9ab-cb0b25646478",
   "metadata": {},
   "outputs": [
    {
     "name": "stdout",
     "output_type": "stream",
     "text": [
      "Debug number: 026\n",
      "```json\n",
      "{\n",
      "  \"data\": [\n",
      "    {\n",
      "      \"pros\": \"Most recent Facebook data, includes spend\",\n",
      "      \"freshness_date\": \"2023-12-28\",\n",
      "      \"score\": \"9\",\n",
      "      \"table_name\": \"ads_placements_6937_facebook_all_data\"\n",
      "    },\n",
      "    {\n",
      "      \"pros\": \"Most recent TikTok data, includes spend\",\n",
      "      \"freshness_date\": \"2023-12-28\",\n",
      "      \"score\": \"9\",\n",
      "      \"table_name\": \"ads_6937_tiktok_ads_all_data\"\n",
      "    },\n",
      "    {\n",
      "      \"pros\": \"Most recent Google data, includes spend\",\n",
      "      \"freshness_date\": \"2023-12-28\",\n",
      "      \"score\": \"9\",\n",
      "      \"table_name\": \"ads_6937_google_ads_ql_all_data\"\n",
      "    },\n",
      "    {\n",
      "      \"pros\": \"Most recent Apple Search data, includes spend\",\n",
      "      \"freshness_date\": \"2023-12-28\",\n",
      "      \"score\": \"9\",\n",
      "      \"table_name\": \"ads_6937_apple_search_all_data\"\n",
      "    }\n",
      "  ]\n",
      "}\n",
      "```\n"
     ]
    }
   ],
   "source": [
    "import os\n",
    "import openai\n",
    "import requests\n",
    "import json\n",
    "from openai import OpenAI\n",
    "import re\n",
    "\n",
    "api_key = \"insert your key\"\n",
    "\n",
    "client = OpenAI(api_key=api_key)\n",
    "\n",
    "system_prompt_file = 'system_prompt_026.txt'\n",
    "user_request = \"<start of user request> Total ad spend for last 90 days for Facebook, TikTok, Google and Apple Search <end of user request>\"\n",
    "\n",
    "with open(system_prompt_file, 'r', encoding='utf-8') as file:\n",
    "    system_prompt = file.read()\n",
    "\n",
    "debug_number_match = re.search(r'_([\\d]+)\\.txt$', system_prompt_file)\n",
    "debug_number = debug_number_match.group(1) if debug_number_match else ''\n",
    "\n",
    "\n",
    "response = client.chat.completions.create(\n",
    "  model=\"gpt-4-1106-preview\",\n",
    "  messages=[\n",
    "    {\n",
    "      \"role\": \"system\",\n",
    "      \"content\": system_prompt\n",
    "    },\n",
    "    {\n",
    "      \"role\": \"user\",\n",
    "      \"content\": user_request\n",
    "    }\n",
    "  ],\n",
    "  temperature=0,\n",
    "  max_tokens=4000,\n",
    "  top_p=1\n",
    ")\n",
    "\n",
    "response_text = response.choices[0].message.content\n",
    "ai_response_file = f'ai_response_{debug_number}.txt'\n",
    "with open(ai_response_file, 'w', encoding='utf-8') as ai_response:\n",
    "    ai_response.write(f\"System Prompt File: {system_prompt_file}\\n\")\n",
    "    ai_response.write(f\"User Request: {user_request}\\n\")\n",
    "    ai_response.write(f\"Response Text: {response_text}\\n\")\n",
    "    \n",
    "print(f'Debug number: {debug_number}')\n",
    "print(response_text)\n",
    "    "
   ]
  },
  {
   "cell_type": "code",
   "execution_count": null,
   "id": "05cc1582-e2c6-48ca-83f5-b3181db042bf",
   "metadata": {},
   "outputs": [],
   "source": []
  }
 ],
 "metadata": {
  "kernelspec": {
   "display_name": "Python 3 (ipykernel)",
   "language": "python",
   "name": "python3"
  },
  "language_info": {
   "codemirror_mode": {
    "name": "ipython",
    "version": 3
   },
   "file_extension": ".py",
   "mimetype": "text/x-python",
   "name": "python",
   "nbconvert_exporter": "python",
   "pygments_lexer": "ipython3",
   "version": "3.12.0"
  }
 },
 "nbformat": 4,
 "nbformat_minor": 5
}
